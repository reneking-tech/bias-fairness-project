{
 "cells": [
  {
   "cell_type": "markdown",
   "metadata": {},
   "source": [
    "# Model Evaluation and Fairness Analysis\n",
    "\n",
    "In this notebook, we evaluate the performance and fairness of our model trained on the weighted data. The steps include:\n",
    "\n",
    "1. **Data Loading:** Load the weighted dataset (`weighted_train.csv`).\n",
    "2. **Data Preparation:** Split the data into training and testing sets and scale the features.\n",
    "3. **Model Training:** Train a Logistic Regression model on the weighted data.\n",
    "4. **Performance Evaluation:** Compute accuracy and print the classification report.\n",
    "5. **Fairness Evaluation:** Convert the test set into an AIF360 BinaryLabelDataset and compute fairness metrics (Statistical Parity Difference and Disparate Impact).\n",
    "6. **Visualization:** Plot the average positive prediction rate by the protected attribute (sex).\n",
    "\n",
    "Let's get started!\n"
   ]
  },
  {
   "cell_type": "markdown",
   "metadata": {},
   "source": [
    "## 1. Environment Setup and Data Loading\n",
    "\n",
    "We begin by setting up our environment. Since this notebook is running from the `notebooks` folder, we move up one level to define our project root. Then we construct the absolute path to the weighted data file and load it.\n"
   ]
  },
  {
   "cell_type": "code",
   "execution_count": 7,
   "metadata": {},
   "outputs": [
    {
     "name": "stdout",
     "output_type": "stream",
     "text": [
      "Project root directory: /Users/stay-c/Desktop/AI_Fairness_Project\n",
      "Looking for weighted data at: /Users/stay-c/Desktop/AI_Fairness_Project/data/weighted_train.csv\n",
      "Weighted data loaded. Shape: (32561, 15)\n"
     ]
    }
   ],
   "source": [
    "import os\n",
    "import sys\n",
    "import pandas as pd\n",
    "\n",
    "# Since the notebook is in the 'notebooks' folder, move up one level to get the project root.\n",
    "current_dir = os.getcwd()\n",
    "if os.path.basename(current_dir) == \"notebooks\":\n",
    "    project_root = os.path.abspath(os.path.join(current_dir, \"..\"))\n",
    "else:\n",
    "    project_root = current_dir\n",
    "\n",
    "print(\"Project root directory:\", project_root)\n",
    "\n",
    "# Construct the absolute path to the weighted data file.\n",
    "weighted_csv_path = os.path.join(project_root, \"data\", \"weighted_train.csv\")\n",
    "print(\"Looking for weighted data at:\", weighted_csv_path)\n",
    "\n",
    "# Check if the weighted data file exists.\n",
    "if not os.path.exists(weighted_csv_path):\n",
    "    sys.exit(f\"Error: Weighted data file not found at {weighted_csv_path}.\\n\"\n",
    "             \"Please run 'python3 src/bias_mitigation.py' to generate weighted_train.csv before proceeding.\")\n",
    "\n",
    "# Load the weighted data.\n",
    "df = pd.read_csv(weighted_csv_path)\n",
    "print(\"Weighted data loaded. Shape:\", df.shape)\n"
   ]
  },
  {
   "cell_type": "markdown",
   "metadata": {},
   "source": [
    "## 2. Data Preparation\n",
    "\n",
    "We assume the target column is named `income_binary`. Here, we separate the features from the target and split the data into training and testing sets using a 70-30 split.\n"
   ]
  },
  {
   "cell_type": "code",
   "execution_count": 8,
   "metadata": {},
   "outputs": [
    {
     "name": "stdout",
     "output_type": "stream",
     "text": [
      "Data split into training and testing sets.\n",
      "Training set shape: (22792, 14) Test set shape: (9769, 14)\n"
     ]
    }
   ],
   "source": [
    "from sklearn.model_selection import train_test_split\n",
    "\n",
    "# Ensure the target column exists.\n",
    "if 'income_binary' not in df.columns:\n",
    "    sys.exit(\"Error: Expected target column 'income_binary' not found in weighted data.\")\n",
    "\n",
    "# Separate features (X) and target (y).\n",
    "X = df.drop(['income_binary'], axis=1)\n",
    "y = df['income_binary']\n",
    "\n",
    "# Split the data into training (70%) and testing (30%) sets.\n",
    "X_train, X_test, y_train, y_test = train_test_split(X, y, test_size=0.3, random_state=42)\n",
    "print(\"Data split into training and testing sets.\")\n",
    "print(\"Training set shape:\", X_train.shape, \"Test set shape:\", X_test.shape)\n"
   ]
  },
  {
   "cell_type": "markdown",
   "metadata": {},
   "source": [
    "## 3. Feature Scaling and Model Training\n",
    "\n",
    "Feature scaling is critical for many models. We standardize our features using `StandardScaler` and then train a Logistic Regression model as our baseline classifier on the weighted data.\n"
   ]
  },
  {
   "cell_type": "code",
   "execution_count": 9,
   "metadata": {},
   "outputs": [
    {
     "name": "stdout",
     "output_type": "stream",
     "text": [
      "Model trained on weighted data.\n",
      "\n",
      "Model Accuracy: 0.8258777766403931\n",
      "Classification Report:\n",
      "              precision    recall  f1-score   support\n",
      "\n",
      "         0.0       0.85      0.94      0.89      7455\n",
      "         1.0       0.71      0.45      0.55      2314\n",
      "\n",
      "    accuracy                           0.83      9769\n",
      "   macro avg       0.78      0.70      0.72      9769\n",
      "weighted avg       0.81      0.83      0.81      9769\n",
      "\n"
     ]
    }
   ],
   "source": [
    "from sklearn.preprocessing import StandardScaler\n",
    "from sklearn.linear_model import LogisticRegression\n",
    "from sklearn.metrics import accuracy_score, classification_report\n",
    "\n",
    "# Scale features.\n",
    "scaler = StandardScaler()\n",
    "X_train_scaled = scaler.fit_transform(X_train)\n",
    "X_test_scaled = scaler.transform(X_test)\n",
    "\n",
    "# Train a Logistic Regression model on the weighted data.\n",
    "model = LogisticRegression(max_iter=2000)\n",
    "model.fit(X_train_scaled, y_train)\n",
    "print(\"Model trained on weighted data.\")\n",
    "\n",
    "# Predict on the test set.\n",
    "predictions = model.predict(X_test_scaled)\n",
    "\n",
    "# Evaluate model performance.\n",
    "accuracy = accuracy_score(y_test, predictions)\n",
    "print(\"\\nModel Accuracy:\", accuracy)\n",
    "print(\"Classification Report:\")\n",
    "print(classification_report(y_test, predictions))\n"
   ]
  },
  {
   "cell_type": "markdown",
   "metadata": {},
   "source": [
    "## 4. Fairness Evaluation\n",
    "\n",
    "Next, we evaluate the fairness of our model. We ensure that the protected attribute `sex` is included in our features, and then we prepare a DataFrame that includes true and predicted labels.  \n",
    "We convert this DataFrame into an AIF360 `BinaryLabelDataset` and compute fairness metrics:  \n",
    "- **Statistical Parity Difference**  \n",
    "- **Disparate Impact**\n",
    "\n",
    "In our example, we assume that `sex = 1` is the privileged group (e.g., Male) and `sex = 0` is the unprivileged group (e.g., Female).\n"
   ]
  },
  {
   "cell_type": "code",
   "execution_count": 10,
   "metadata": {},
   "outputs": [
    {
     "name": "stdout",
     "output_type": "stream",
     "text": [
      "\n",
      "Fairness Metrics on Weighted Model Predictions:\n",
      "Statistical Parity Difference: -0.1754883749654449\n",
      "Disparate Impact: 0.16342001686180982\n"
     ]
    }
   ],
   "source": [
    "from aif360.datasets import BinaryLabelDataset\n",
    "from aif360.metrics import ClassificationMetric\n",
    "\n",
    "# Check that the protected attribute 'sex' is in the features.\n",
    "if 'sex' not in X.columns:\n",
    "    sys.exit(\"Error: Protected attribute 'sex' not found in weighted data.\")\n",
    "\n",
    "# Prepare DataFrame for fairness evaluation.\n",
    "X_test_df = pd.DataFrame(X_test, columns=X.columns)\n",
    "X_test_df['true_label'] = y_test.values\n",
    "X_test_df['pred_label'] = predictions\n",
    "\n",
    "# Convert to an AIF360 BinaryLabelDataset.\n",
    "dataset_true = BinaryLabelDataset(df=X_test_df, label_names=['true_label'], protected_attribute_names=['sex'])\n",
    "dataset_pred = dataset_true.copy()\n",
    "dataset_pred.labels = X_test_df['pred_label'].values.reshape(-1, 1)\n",
    "\n",
    "# Compute fairness metrics.\n",
    "fair_metric = ClassificationMetric(\n",
    "    dataset_true,\n",
    "    dataset_pred,\n",
    "    privileged_groups=[{'sex': 1}],    # Privileged group: e.g., Male\n",
    "    unprivileged_groups=[{'sex': 0}]   # Unprivileged group: e.g., Female\n",
    ")\n",
    "\n",
    "print(\"\\nFairness Metrics on Weighted Model Predictions:\")\n",
    "print(\"Statistical Parity Difference:\", fair_metric.statistical_parity_difference())\n",
    "print(\"Disparate Impact:\", fair_metric.disparate_impact())\n"
   ]
  },
  {
   "cell_type": "markdown",
   "metadata": {},
   "source": [
    "## 5. Visualization of Group-Level Positive Prediction Rates\n",
    "\n",
    "We calculate and visualize the average positive prediction rate for each group defined by the protected attribute `sex`.  \n",
    "This helps us understand if the model's predictions differ significantly between the privileged and unprivileged groups.\n"
   ]
  },
  {
   "cell_type": "code",
   "execution_count": 11,
   "metadata": {},
   "outputs": [
    {
     "name": "stdout",
     "output_type": "stream",
     "text": [
      "\n",
      "Average positive prediction rate by group:\n",
      "sex\n",
      "0.0    0.034280\n",
      "1.0    0.209769\n",
      "Name: pred_label, dtype: float64\n"
     ]
    },
    {
     "data": {
      "image/png": "[encoded data removed]",
      "text/plain": [
       "<Figure size 800x600 with 1 Axes>"
      ]
     },
     "metadata": {},
     "output_type": "display_data"
    }
   ],
   "source": [
    "import matplotlib.pyplot as plt\n",
    "\n",
    "# Calculate average positive prediction rate by protected group.\n",
    "grouped = X_test_df.groupby('sex')['pred_label'].mean()\n",
    "print(\"\\nAverage positive prediction rate by group:\")\n",
    "print(grouped)\n",
    "\n",
    "# Plot the positive prediction rates by group.\n",
    "plt.figure(figsize=(8, 6))\n",
    "plt.bar(grouped.index.astype(str), grouped.values, color=['skyblue', 'orange'])\n",
    "plt.xlabel('Sex (0 = Female, 1 = Male)')\n",
    "plt.ylabel('Positive Prediction Rate')\n",
    "plt.title('Positive Prediction Rate by Protected Group')\n",
    "plt.grid(True)\n",
    "plt.show()\n"
   ]
  },
  {
   "cell_type": "markdown",
   "metadata": {},
   "source": [
    "## Conclusion\n",
    "\n",
    "In this notebook, we have:\n",
    "- Loaded the weighted dataset and split it into training and testing sets.\n",
    "- Scaled the features and trained a Logistic Regression model.\n",
    "- Evaluated the model's performance with accuracy and a detailed classification report.\n",
    "- Computed fairness metrics to assess bias in the model's predictions.\n",
    "- Visualized the positive prediction rates by the protected attribute `sex`.\n",
    "\n",
    "This comprehensive evaluation will help us understand both the predictive performance and fairness of our model, guiding further improvements if needed.\n"
   ]
  }
 ],
 "metadata": {
  "kernelspec": {
   "display_name": "venv_tf",
   "language": "python",
   "name": "python3"
  },
  "language_info": {
   "codemirror_mode": {
    "name": "ipython",
    "version": 3
   },
   "file_extension": ".py",
   "mimetype": "text/x-python",
   "name": "python",
   "nbconvert_exporter": "python",
   "pygments_lexer": "ipython3",
   "version": "3.9.21"
  }
 },
 "nbformat": 4,
 "nbformat_minor": 2
}
