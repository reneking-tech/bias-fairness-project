{
 "cells": [
  {
   "cell_type": "markdown",
   "metadata": {},
   "source": [
    "In this notebook, we apply bias mitigation using the reweighing technique from AIF360 on our cleaned dataset. The goal is to adjust instance weights to reduce bias in the dataset.\n",
    "\n",
    "We'll:\n",
    "- Define paths to our cleaned data (`train_cleaned.csv`).\n",
    "- Load the cleaned data and convert it to an AIF360 `BinaryLabelDataset`.\n",
    "- Apply the reweighing algorithm to mitigate bias.\n",
    "- Convert the reweighted dataset back to a pandas DataFrame and save it as `weighted_train.csv`.\n",
    "\n",
    "Let's start by setting up the environment and defining the necessary file paths."
   ]
  },
  {
   "cell_type": "code",
   "execution_count": 5,
   "metadata": {},
   "outputs": [
    {
     "name": "stdout",
     "output_type": "stream",
     "text": [
      "Looking for cleaned data at: /Users/stay-c/Desktop/AI_Fairness_Project/notebooks/data/train_cleaned.csv\n"
     ]
    },
    {
     "ename": "SystemExit",
     "evalue": "Error: Cleaned data file not found at /Users/stay-c/Desktop/AI_Fairness_Project/notebooks/data/train_cleaned.csv.\nPlease run 'python3 src/data_cleaning.py' to generate train_cleaned.csv before running this notebook.",
     "output_type": "error",
     "traceback": [
      "An exception has occurred, use %tb to see the full traceback.\n",
      "\u001b[0;31mSystemExit\u001b[0m\u001b[0;31m:\u001b[0m Error: Cleaned data file not found at /Users/stay-c/Desktop/AI_Fairness_Project/notebooks/data/train_cleaned.csv.\nPlease run 'python3 src/data_cleaning.py' to generate train_cleaned.csv before running this notebook.\n"
     ]
    }
   ],
   "source": [
    "import os\n",
    "import sys\n",
    "import pandas as pd\n",
    "from aif360.datasets import BinaryLabelDataset\n",
    "from aif360.algorithms.preprocessing import Reweighing\n",
    "\n",
    "# Define the absolute path for the cleaned data file.\n",
    "# Note: In a notebook, you might use os.getcwd() if __file__ is not defined.\n",
    "project_root = os.getcwd()  \n",
    "cleaned_csv_path = os.path.abspath(os.path.join(project_root, \"data\", \"train_cleaned.csv\"))\n",
    "print(\"Looking for cleaned data at:\", cleaned_csv_path)\n",
    "\n",
    "# Check if the cleaned data file exists.\n",
    "if not os.path.exists(cleaned_csv_path):\n",
    "    sys.exit(f\"Error: Cleaned data file not found at {cleaned_csv_path}.\\n\"\n",
    "             \"Please run 'python3 src/data_cleaning.py' to generate train_cleaned.csv before running this notebook.\")\n",
    "\n",
    "# Load the cleaned data.\n",
    "df = pd.read_csv(cleaned_csv_path)\n",
    "print(\"Loaded cleaned data with shape:\", df.shape)\n"
   ]
  }
 ],
 "metadata": {
  "kernelspec": {
   "display_name": "venv_tf",
   "language": "python",
   "name": "python3"
  },
  "language_info": {
   "codemirror_mode": {
    "name": "ipython",
    "version": 3
   },
   "file_extension": ".py",
   "mimetype": "text/x-python",
   "name": "python",
   "nbconvert_exporter": "python",
   "pygments_lexer": "ipython3",
   "version": "3.9.21"
  }
 },
 "nbformat": 4,
 "nbformat_minor": 2
}
