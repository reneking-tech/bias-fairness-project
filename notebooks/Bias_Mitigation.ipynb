{
 "cells": [
  {
   "cell_type": "markdown",
   "metadata": {},
   "source": [
    "# Bias Mitigation Using Reweighing\n",
    "\n",
    "In this notebook, we apply a bias mitigation technique (Reweighing) from AIF360 on our cleaned Adult dataset. The goals are to:\n",
    "\n",
    "- Load the cleaned dataset (`train_cleaned.csv`).\n",
    "- Convert the data into an AIF360 `BinaryLabelDataset` format.\n",
    "- Apply the reweighing algorithm to adjust instance weights to reduce bias.\n",
    "- Convert the reweighted dataset back to a pandas DataFrame and save it as `weighted_train.csv`.\n",
    "\n",
    "Let's begin by setting up the necessary file paths and loading our cleaned data.\n"
   ]
  },
  {
   "cell_type": "code",
   "execution_count": 6,
   "metadata": {},
   "outputs": [
    {
     "name": "stdout",
     "output_type": "stream",
     "text": [
      "Current working directory: /Users/stay-c/Desktop/AI_Fairness_Project/notebooks\n",
      "Project root directory: /Users/stay-c/Desktop/AI_Fairness_Project\n",
      "Looking for cleaned data at: /Users/stay-c/Desktop/AI_Fairness_Project/data/train_cleaned.csv\n",
      "Loaded cleaned data with shape: (32561, 15)\n"
     ]
    }
   ],
   "source": [
    "import os\n",
    "import sys\n",
    "import pandas as pd\n",
    "from aif360.datasets import BinaryLabelDataset\n",
    "from aif360.algorithms.preprocessing import Reweighing\n",
    "\n",
    "# Determine current working directory\n",
    "current_dir = os.getcwd()\n",
    "print(\"Current working directory:\", current_dir)\n",
    "\n",
    "# If the current directory is 'notebooks', move up one level to get the project root.\n",
    "if os.path.basename(current_dir) == \"notebooks\":\n",
    "    project_root = os.path.abspath(os.path.join(current_dir, \"..\"))\n",
    "else:\n",
    "    project_root = current_dir\n",
    "\n",
    "print(\"Project root directory:\", project_root)\n",
    "\n",
    "# Construct the absolute path to the cleaned data file.\n",
    "cleaned_csv_path = os.path.join(project_root, \"data\", \"train_cleaned.csv\")\n",
    "print(\"Looking for cleaned data at:\", cleaned_csv_path)\n",
    "\n",
    "# Check if the cleaned data file exists.\n",
    "if not os.path.exists(cleaned_csv_path):\n",
    "    sys.exit(f\"Error: Cleaned data file not found at {cleaned_csv_path}.\\n\"\n",
    "             \"Please run the data_cleaning script to generate train_cleaned.csv before proceeding.\")\n",
    "\n",
    "# Load the cleaned data.\n",
    "df = pd.read_csv(cleaned_csv_path)\n",
    "print(\"Loaded cleaned data with shape:\", df.shape)\n"
   ]
  },
  {
   "cell_type": "markdown",
   "metadata": {},
   "source": [
    "## 2. Convert DataFrame to AIF360 BinaryLabelDataset\n",
    "\n",
    "We now convert our pandas DataFrame into an AIF360 `BinaryLabelDataset`.  \n",
    "In our dataset:\n",
    "- The target column is `income_binary`.\n",
    "- The protected attribute is `sex`.\n",
    "\n",
    "This conversion is essential for applying bias mitigation algorithms provided by AIF360.\n"
   ]
  },
  {
   "cell_type": "code",
   "execution_count": 7,
   "metadata": {},
   "outputs": [
    {
     "name": "stdout",
     "output_type": "stream",
     "text": [
      "Data converted to BinaryLabelDataset format.\n"
     ]
    }
   ],
   "source": [
    "from aif360.datasets import BinaryLabelDataset\n",
    "\n",
    "# Convert the DataFrame to an AIF360 BinaryLabelDataset.\n",
    "dataset = BinaryLabelDataset(df=df, label_names=['income_binary'], protected_attribute_names=['sex'])\n",
    "print(\"Data converted to BinaryLabelDataset format.\")\n"
   ]
  },
  {
   "cell_type": "markdown",
   "metadata": {},
   "source": [
    "## 3. Apply the Reweighing Algorithm\n",
    "\n",
    "Next, we apply the reweighing bias mitigation technique.  \n",
    "- We designate `sex` = 0 as the unprivileged group and `sex` = 1 as the privileged group.\n",
    "- The algorithm adjusts the weights of instances to reduce bias.\n"
   ]
  },
  {
   "cell_type": "code",
   "execution_count": 8,
   "metadata": {},
   "outputs": [
    {
     "name": "stdout",
     "output_type": "stream",
     "text": [
      "Reweighing applied to dataset.\n"
     ]
    }
   ],
   "source": [
    "from aif360.algorithms.preprocessing import Reweighing\n",
    "\n",
    "# Apply the Reweighing algorithm.\n",
    "rw = Reweighing(unprivileged_groups=[{'sex': 0}], privileged_groups=[{'sex': 1}])\n",
    "dataset_reweighted = rw.fit_transform(dataset)\n",
    "print(\"Reweighing applied to dataset.\")\n"
   ]
  },
  {
   "cell_type": "markdown",
   "metadata": {},
   "source": [
    "## 4. Convert Reweighted Dataset and Save\n",
    "\n",
    "We now convert the reweighted AIF360 dataset back into a pandas DataFrame.  \n",
    "Finally, we save this weighted dataset as `weighted_train.csv` for subsequent model training and evaluation.\n"
   ]
  },
  {
   "cell_type": "code",
   "execution_count": 9,
   "metadata": {},
   "outputs": [
    {
     "name": "stdout",
     "output_type": "stream",
     "text": [
      "Weighted data saved as: /Users/stay-c/Desktop/AI_Fairness_Project/data/weighted_train.csv\n"
     ]
    }
   ],
   "source": [
    "# Convert the reweighted dataset back to a pandas DataFrame.\n",
    "weighted_df, _ = dataset_reweighted.convert_to_dataframe()\n",
    "\n",
    "# Define the path to save the weighted data.\n",
    "weighted_csv_path = os.path.join(project_root, \"data\", \"weighted_train.csv\")\n",
    "\n",
    "# Save the weighted data.\n",
    "weighted_df.to_csv(weighted_csv_path, index=False)\n",
    "print(\"Weighted data saved as:\", weighted_csv_path)\n"
   ]
  },
  {
   "cell_type": "markdown",
   "metadata": {},
   "source": [
    "## Conclusion\n",
    "\n",
    "In this notebook, we:\n",
    "- Set up our environment and loaded the cleaned dataset.\n",
    "- Converted the data into an AIF360 `BinaryLabelDataset`.\n",
    "- Applied the reweighing algorithm to mitigate bias.\n",
    "- Saved the weighted data as `weighted_train.csv`.\n",
    "\n",
    "This reweighted dataset will now be used in later steps (e.g., model training and evaluation) to assess the impact of bias mitigation.\n"
   ]
  }
 ],
 "metadata": {
  "kernelspec": {
   "display_name": "venv_tf",
   "language": "python",
   "name": "python3"
  },
  "language_info": {
   "codemirror_mode": {
    "name": "ipython",
    "version": 3
   },
   "file_extension": ".py",
   "mimetype": "text/x-python",
   "name": "python",
   "nbconvert_exporter": "python",
   "pygments_lexer": "ipython3",
   "version": "3.9.21"
  }
 },
 "nbformat": 4,
 "nbformat_minor": 2
}
