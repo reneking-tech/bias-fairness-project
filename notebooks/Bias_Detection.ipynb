{
 "cells": [
  {
   "cell_type": "markdown",
   "id": "32ca098f",
   "metadata": {},
   "source": []
  },
  {
   "cell_type": "markdown",
   "id": "3cf54652",
   "metadata": {},
   "source": [
    "# Bias Detection and Fairness Evaluation\n",
    "\n",
    "In this notebook, we will load our cleaned dataset, split it into training and testing sets, scale the features, and train a baseline model using Logistic Regression. We will then evaluate the model's performance and compute fairness metrics (Statistical Parity Difference and Disparate Impact) using AIF360.\n",
    "\n",
    "Below, we first set up our environment by defining the project root and the path to our cleaned dataset.\n"
   ]
  },
  {
   "cell_type": "code",
   "execution_count": 7,
   "id": "dd59348d",
   "metadata": {},
   "outputs": [
    {
     "name": "stdout",
     "output_type": "stream",
     "text": [
      "Loading cleaned data from: /Users/stay-c/Desktop/AI_Fairness_Project/data/train_cleaned.csv\n",
      "Cleaned data loaded. Shape: (32561, 15)\n"
     ]
    }
   ],
   "source": [
    "import os\n",
    "import sys\n",
    "import pandas as pd\n",
    "from aif360.datasets import BinaryLabelDataset\n",
    "from aif360.metrics import ClassificationMetric\n",
    "\n",
    "# Determine the project root so we can build absolute paths reliably.\n",
    "project_root = os.path.abspath(os.path.join(os.path.dirname(\"__file__\"), \"..\"))\n",
    "# Note: In a notebook, you might prefer to use os.getcwd() instead.\n",
    "# project_root = os.getcwd()\n",
    "cleaned_csv_path = os.path.join(project_root, \"data\", \"train_cleaned.csv\")\n",
    "print(\"Loading cleaned data from:\", cleaned_csv_path)\n",
    "\n",
    "# Check if the cleaned data file exists; if not, stop the notebook.\n",
    "if not os.path.exists(cleaned_csv_path):\n",
    "    sys.exit(\"Error: 'train_cleaned.csv' not found. Please run the data_cleaning.py script first.\")\n",
    "\n",
    "# Load the cleaned dataset.\n",
    "df = pd.read_csv(cleaned_csv_path)\n",
    "print(\"Cleaned data loaded. Shape:\", df.shape)\n"
   ]
  },
  {
   "cell_type": "markdown",
   "id": "654ba1ea",
   "metadata": {},
   "source": [
    "## Data Preparation\n",
    "\n",
    "In this cell, we assume that our target column is named `income_binary`. We separate the features from the target, and then split the data into training and testing sets using a 70-30 split.\n"
   ]
  },
  {
   "cell_type": "code",
   "execution_count": 8,
   "id": "684ca473",
   "metadata": {},
   "outputs": [
    {
     "name": "stdout",
     "output_type": "stream",
     "text": [
      "Data split into training and testing sets.\n"
     ]
    }
   ],
   "source": [
    "from sklearn.model_selection import train_test_split\n",
    "\n",
    "# Verify that the target column 'income_binary' exists.\n",
    "if 'income_binary' not in df.columns:\n",
    "    sys.exit(\"Error: Expected target column 'income_binary' not found.\")\n",
    "\n",
    "# Separate features (X) from target (y).\n",
    "X = df.drop(['income_binary'], axis=1)\n",
    "y = df['income_binary']\n",
    "\n",
    "# Split the data into training (70%) and testing (30%) sets.\n",
    "X_train, X_test, y_train, y_test = train_test_split(X, y, test_size=0.3, random_state=42)\n",
    "print(\"Data split into training and testing sets.\")\n"
   ]
  },
  {
   "cell_type": "markdown",
   "id": "b776e89c",
   "metadata": {},
   "source": [
    "## Feature Scaling and Baseline Model Training\n",
    "\n",
    "Standardizing features is important for many machine learning models. In this cell, we scale our features and then train a baseline Logistic Regression model on the training data. We'll evaluate the model's performance on the test set.\n"
   ]
  },
  {
   "cell_type": "code",
   "execution_count": 9,
   "id": "771fec6e",
   "metadata": {},
   "outputs": [
    {
     "name": "stdout",
     "output_type": "stream",
     "text": [
      "Baseline Model Accuracy: 0.8258777766403931\n",
      "Baseline Classification Report:\n",
      "              precision    recall  f1-score   support\n",
      "\n",
      "           0       0.85      0.94      0.89      7455\n",
      "           1       0.71      0.45      0.55      2314\n",
      "\n",
      "    accuracy                           0.83      9769\n",
      "   macro avg       0.78      0.70      0.72      9769\n",
      "weighted avg       0.81      0.83      0.81      9769\n",
      "\n"
     ]
    }
   ],
   "source": [
    "from sklearn.preprocessing import StandardScaler\n",
    "from sklearn.linear_model import LogisticRegression\n",
    "from sklearn.metrics import accuracy_score, classification_report\n",
    "\n",
    "# Scale features using StandardScaler.\n",
    "scaler = StandardScaler()\n",
    "X_train_scaled = scaler.fit_transform(X_train)\n",
    "X_test_scaled = scaler.transform(X_test)\n",
    "\n",
    "# Train a baseline Logistic Regression model.\n",
    "model = LogisticRegression(max_iter=2000)\n",
    "model.fit(X_train_scaled, y_train)\n",
    "pred_baseline = model.predict(X_test_scaled)\n",
    "\n",
    "# Evaluate model performance.\n",
    "acc = accuracy_score(y_test, pred_baseline)\n",
    "print(\"Baseline Model Accuracy:\", acc)\n",
    "print(\"Baseline Classification Report:\")\n",
    "print(classification_report(y_test, pred_baseline))\n"
   ]
  },
  {
   "cell_type": "markdown",
   "id": "42fedb4f",
   "metadata": {},
   "source": [
    "## Fairness Evaluation\n",
    "\n",
    "Next, we evaluate fairness by converting our test data into an AIF360 BinaryLabelDataset. We assume that our protected attribute is `sex` (with 1 for privileged, e.g., Male, and 0 for unprivileged, e.g., Female). We then compute key fairness metrics: Statistical Parity Difference and Disparate Impact.\n"
   ]
  },
  {
   "cell_type": "code",
   "execution_count": 10,
   "id": "9a2be3ed",
   "metadata": {},
   "outputs": [
    {
     "name": "stdout",
     "output_type": "stream",
     "text": [
      "Baseline Fairness Metrics:\n",
      "Statistical Parity Difference: -0.1754883749654449\n",
      "Disparate Impact: 0.16342001686180982\n"
     ]
    }
   ],
   "source": [
    "# Ensure that the protected attribute 'sex' is present.\n",
    "if 'sex' not in X.columns:\n",
    "    sys.exit(\"Error: Protected attribute 'sex' not found in data.\")\n",
    "\n",
    "# Build a DataFrame for fairness evaluation with true and predicted labels.\n",
    "X_test_df = pd.DataFrame(X_test, columns=X.columns)\n",
    "X_test_df['true_label'] = y_test.values\n",
    "X_test_df['pred_label'] = pred_baseline\n",
    "\n",
    "# Convert the DataFrame to an AIF360 BinaryLabelDataset.\n",
    "dataset_true = BinaryLabelDataset(df=X_test_df, label_names=['true_label'], protected_attribute_names=['sex'])\n",
    "dataset_pred = dataset_true.copy()\n",
    "dataset_pred.labels = X_test_df['pred_label'].values.reshape(-1, 1)\n",
    "\n",
    "# Compute fairness metrics.\n",
    "fair_metric = ClassificationMetric(\n",
    "    dataset_true,\n",
    "    dataset_pred,\n",
    "    privileged_groups=[{'sex': 1}],    # Assuming 'sex' = 1 is privileged (e.g., Male)\n",
    "    unprivileged_groups=[{'sex': 0}]   # Assuming 'sex' = 0 is unprivileged (e.g., Female)\n",
    ")\n",
    "print(\"Baseline Fairness Metrics:\")\n",
    "print(\"Statistical Parity Difference:\", fair_metric.statistical_parity_difference())\n",
    "print(\"Disparate Impact:\", fair_metric.disparate_impact())\n"
   ]
  },
  {
   "cell_type": "markdown",
   "id": "d1b4c1e1",
   "metadata": {},
   "source": [
    "## Visualization of Group-Level Predictions\n",
    "\n",
    "This final cell visualizes the average positive prediction rate by group (protected attribute: 'sex'). This helps us see if there's a significant difference in predictions between the privileged and unprivileged groups.\n"
   ]
  },
  {
   "cell_type": "code",
   "execution_count": 11,
   "id": "8064fbfa",
   "metadata": {},
   "outputs": [
    {
     "name": "stdout",
     "output_type": "stream",
     "text": [
      "Average positive prediction rate by group:\n",
      "sex\n",
      "0    0.034280\n",
      "1    0.209769\n",
      "Name: pred_label, dtype: float64\n"
     ]
    },
    {
     "data": {
      "image/png": "[encoded data removed]",
      "text/plain": [
       "<Figure size 800x600 with 1 Axes>"
      ]
     },
     "metadata": {},
     "output_type": "display_data"
    }
   ],
   "source": [
    "import matplotlib.pyplot as plt\n",
    "\n",
    "# Calculate the average positive prediction rate by group.\n",
    "grouped = X_test_df.groupby('sex')['pred_label'].mean()\n",
    "print(\"Average positive prediction rate by group:\")\n",
    "print(grouped)\n",
    "\n",
    "# Create a bar chart for visualization.\n",
    "plt.figure(figsize=(8, 6))\n",
    "plt.bar(grouped.index.astype(str), grouped.values, color=['skyblue', 'orange'])\n",
    "plt.xlabel('Sex (0 = Female, 1 = Male)')\n",
    "plt.ylabel('Positive Prediction Rate')\n",
    "plt.title('Positive Prediction Rate by Protected Group')\n",
    "plt.grid(True)\n",
    "plt.show()\n"
   ]
  }
 ],
 "metadata": {
  "kernelspec": {
   "display_name": "venv_tf",
   "language": "python",
   "name": "python3"
  },
  "language_info": {
   "codemirror_mode": {
    "name": "ipython",
    "version": 3
   },
   "file_extension": ".py",
   "mimetype": "text/x-python",
   "name": "python",
   "nbconvert_exporter": "python",
   "pygments_lexer": "ipython3",
   "version": "3.9.21"
  }
 },
 "nbformat": 4,
 "nbformat_minor": 5
}
