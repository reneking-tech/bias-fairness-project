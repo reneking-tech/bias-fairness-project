{
 "cells": [
  {
   "cell_type": "markdown",
   "id": "cf8e8439-83b9-43d4-950e-2a32d4036a4a",
   "metadata": {},
   "source": [
    "# The following cell retrieves the current project directory and constructs the absolute path \n",
    "# to our raw data file (adult.data). This helps us ensure that our code is running in the correct location."
   ]
  },
  {
   "cell_type": "code",
   "execution_count": 2,
   "id": "4387a434-7cd6-493b-9eb6-57befd61fb3e",
   "metadata": {},
   "outputs": [
    {
     "name": "stdout",
     "output_type": "stream",
     "text": [
      "Project root directory: /Users/stay-c/Desktop/AI_Fairness_Project\n",
      "Looking for raw data file at: /Users/stay-c/Desktop/AI_Fairness_Project/data/raw/adult/adult.data\n"
     ]
    }
   ],
   "source": [
    "import os\n",
    "import sys\n",
    "import pandas as pd\n",
    "from aif360.datasets import AdultDataset\n",
    "\n",
    "# Get the current working directory and print it for debugging.\n",
    "project_root = os.getcwd()\n",
    "print(\"Project root directory:\", project_root)\n",
    "\n",
    "# Construct the absolute path to the raw data file.\n",
    "raw_data_file = os.path.join(project_root, \"data\", \"raw\", \"adult\", \"adult.data\")\n",
    "print(\"Looking for raw data file at:\", raw_data_file)"
   ]
  },
  {
   "cell_type": "markdown",
   "id": "407c5698-78d3-4e63-aa9f-d1171c35a5b8",
   "metadata": {},
   "source": [
    "# In this step, if AIF360's AdultDataset cannot convert the data because of non-numeric values \n",
    "# (for example, the 'race' column contains the value 'Black'), we load the raw data manually.\n",
    "# We drop rows with missing values to prevent errors in model training and to ensure that we have complete data.\n",
    "# Next, categorical variables are converted to numerical codes using pd.Categorical().codes.\n",
    "# This encoding is necessary because many machine learning algorithms require numerical input.\n",
    "# Finally, we create a binary target column ('income_binary') and drop the original income column."
   ]
  },
  {
   "cell_type": "code",
   "execution_count": 3,
   "id": "c17f1447-5fff-46f6-a30f-d96a43d4a476",
   "metadata": {},
   "outputs": [
    {
     "name": "stdout",
     "output_type": "stream",
     "text": [
      "train.csv already exists.\n"
     ]
    }
   ],
   "source": [
    "# Define paths for train.csv and the cleaned dataset.\n",
    "train_csv = os.path.join(project_root, \"data\", \"train.csv\")\n",
    "cleaned_csv = os.path.join(project_root, \"data\", \"train_cleaned.csv\")\n",
    "\n",
    "# Check if train.csv exists; if not, create it.\n",
    "if not os.path.exists(train_csv):\n",
    "    print(\"train.csv not found. Creating train.csv from raw Adult dataset...\")\n",
    "    try:\n",
    "        dataset = AdultDataset(protected_attribute_names=['sex'], features_to_drop=['fnlwgt'])\n",
    "        data_df, label_names, protected_attribute_names = dataset.convert_to_dataframe()\n",
    "    except Exception as e:\n",
    "        print(\"Error using AdultDataset:\", e)\n",
    "        print(\"Falling back to manual loading and encoding...\")\n",
    "        columns = [\n",
    "            'age', 'workclass', 'fnlwgt', 'education', 'education-num',\n",
    "            'marital-status', 'occupation', 'relationship', 'race', 'sex',\n",
    "            'capital-gain', 'capital-loss', 'hours-per-week', 'native-country', 'income-per-year'\n",
    "        ]\n",
    "        data_df = pd.read_csv(raw_data_file, header=None, names=columns, na_values='?')\n",
    "        data_df = data_df.dropna()\n",
    "        categorical_cols = ['workclass', 'education', 'marital-status', 'occupation',\n",
    "                            'relationship', 'race', 'sex', 'native-country', 'income-per-year']\n",
    "        for col in categorical_cols:\n",
    "            data_df[col] = pd.Categorical(data_df[col]).codes\n",
    "        data_df['income_binary'] = data_df['income-per-year'].apply(lambda x: 1 if x > 0 else 0)\n",
    "        data_df = data_df.drop('income-per-year', axis=1)\n",
    "        label_names = ['income_binary']\n",
    "        protected_attribute_names = ['sex']\n",
    "    data_df.to_csv(train_csv, index=False)\n",
    "    print(\"train.csv created and saved at:\", train_csv)\n",
    "else:\n",
    "    print(\"train.csv already exists.\")\n"
   ]
  },
  {
   "cell_type": "markdown",
   "id": "088c079c-5f21-46f5-b884-b9553a3aea19",
   "metadata": {},
   "source": [
    "# After creating train.csv (or confirming its existence), we load it and perform additional cleaning:\n",
    "# - We remove any leakage feature (e.g., \"14_ <=50K\") if it exists.\n",
    "# - We ensure that the target column ('income_binary') and the protected attribute ('sex') are converted \n",
    "#   to numeric types.\n",
    "# The final cleaned dataset is then saved as train_cleaned.csv."
   ]
  },
  {
   "cell_type": "code",
   "execution_count": 4,
   "id": "1f53caad-092a-401e-b541-b64f82f1d0bc",
   "metadata": {},
   "outputs": [
    {
     "name": "stdout",
     "output_type": "stream",
     "text": [
      "Loaded train.csv with shape: (32561, 15)\n",
      "No leakage feature '14_ <=50K' found.\n",
      "Cleaned dataset saved at: /Users/stay-c/Desktop/AI_Fairness_Project/data/train_cleaned.csv\n",
      "Data sample:\n",
      "   age  workclass  fnlwgt  education  education-num  marital-status  \\\n",
      "0   39          7   77516          9             13               4   \n",
      "1   50          6   83311          9             13               2   \n",
      "2   38          4  215646         11              9               0   \n",
      "3   53          4  234721          1              7               2   \n",
      "4   28          4  338409          9             13               2   \n",
      "\n",
      "   occupation  relationship  race  sex  capital-gain  capital-loss  \\\n",
      "0           1             1     4    1          2174             0   \n",
      "1           4             0     4    1             0             0   \n",
      "2           6             1     4    1             0             0   \n",
      "3           6             0     2    1             0             0   \n",
      "4          10             5     2    0             0             0   \n",
      "\n",
      "   hours-per-week  native-country  income_binary  \n",
      "0              40              39              0  \n",
      "1              13              39              0  \n",
      "2              40              39              0  \n",
      "3              40              39              0  \n",
      "4              40               5              0  \n"
     ]
    }
   ],
   "source": [
    "# Load train.csv\n",
    "data_df = pd.read_csv(train_csv)\n",
    "print(\"Loaded train.csv with shape:\", data_df.shape)\n",
    "\n",
    "# Remove leakage feature if it exists (e.g., \"14_ <=50K\")\n",
    "if \"14_ <=50K\" in data_df.columns:\n",
    "    data_df = data_df.drop(\"14_ <=50K\", axis=1)\n",
    "    print(\"Leakage feature '14_ <=50K' removed.\")\n",
    "else:\n",
    "    print(\"No leakage feature '14_ <=50K' found.\")\n",
    "\n",
    "# Select target column (use 'income_binary' if it exists)\n",
    "target_column = 'income_binary' if 'income_binary' in data_df.columns else '14_ >50K'\n",
    "data_df[target_column] = data_df[target_column].astype(int)\n",
    "\n",
    "# Ensure that the protected attribute 'sex' is numeric.\n",
    "if 'sex' in data_df.columns:\n",
    "    data_df['sex'] = data_df['sex'].astype(int)\n",
    "\n",
    "# Save the final cleaned dataset.\n",
    "data_df.to_csv(cleaned_csv, index=False)\n",
    "print(\"Cleaned dataset saved at:\", cleaned_csv)\n",
    "print(\"Data sample:\")\n",
    "print(data_df.head())\n"
   ]
  },
  {
   "cell_type": "markdown",
   "id": "c9b348df-54d4-4164-8e9c-7bad9c9945d2",
   "metadata": {},
   "source": [
    "# The final cell prints a sample of the cleaned data to verify that our transformations have been applied correctly.\n",
    "# This sample provides a quick visual confirmation of the cleaning process."
   ]
  }
 ],
 "metadata": {
  "kernelspec": {
   "display_name": "Python 3 (ipykernel)",
   "language": "python",
   "name": "python3"
  },
  "language_info": {
   "codemirror_mode": {
    "name": "ipython",
    "version": 3
   },
   "file_extension": ".py",
   "mimetype": "text/x-python",
   "name": "python",
   "nbconvert_exporter": "python",
   "pygments_lexer": "ipython3",
   "version": "3.9.21"
  }
 },
 "nbformat": 4,
 "nbformat_minor": 5
}
